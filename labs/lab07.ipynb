{
 "cells": [
  {
   "cell_type": "markdown",
   "metadata": {
    "slideshow": {
     "slide_type": "slide"
    }
   },
   "source": [
    "# Laboratorio 7"
   ]
  },
  {
   "cell_type": "code",
   "execution_count": 1,
   "metadata": {},
   "outputs": [],
   "source": [
    "import numpy as np\n",
    "import pandas as pd\n",
    "import matplotlib.pyplot as plt\n",
    "import altair as alt\n",
    "\n",
    "from sklearn import datasets, linear_model\n",
    "from sklearn.metrics import mean_squared_error, r2_score\n",
    "\n",
    "alt.themes.enable('opaque')\n",
    "%matplotlib inline"
   ]
  },
  {
   "cell_type": "markdown",
   "metadata": {},
   "source": [
    "En este laboratorio utilizaremos los mismos datos de diabetes vistos en la clase"
   ]
  },
  {
   "cell_type": "code",
   "execution_count": 2,
   "metadata": {},
   "outputs": [
    {
     "data": {
      "text/html": [
       "<div>\n",
       "<style scoped>\n",
       "    .dataframe tbody tr th:only-of-type {\n",
       "        vertical-align: middle;\n",
       "    }\n",
       "\n",
       "    .dataframe tbody tr th {\n",
       "        vertical-align: top;\n",
       "    }\n",
       "\n",
       "    .dataframe thead th {\n",
       "        text-align: right;\n",
       "    }\n",
       "</style>\n",
       "<table border=\"1\" class=\"dataframe\">\n",
       "  <thead>\n",
       "    <tr style=\"text-align: right;\">\n",
       "      <th></th>\n",
       "      <th>age</th>\n",
       "      <th>sex</th>\n",
       "      <th>bmi</th>\n",
       "      <th>bp</th>\n",
       "      <th>s1</th>\n",
       "      <th>s2</th>\n",
       "      <th>s3</th>\n",
       "      <th>s4</th>\n",
       "      <th>s5</th>\n",
       "      <th>s6</th>\n",
       "      <th>target</th>\n",
       "    </tr>\n",
       "  </thead>\n",
       "  <tbody>\n",
       "    <tr>\n",
       "      <th>0</th>\n",
       "      <td>0.038076</td>\n",
       "      <td>0.050680</td>\n",
       "      <td>0.061696</td>\n",
       "      <td>0.021872</td>\n",
       "      <td>-0.044223</td>\n",
       "      <td>-0.034821</td>\n",
       "      <td>-0.043401</td>\n",
       "      <td>-0.002592</td>\n",
       "      <td>0.019908</td>\n",
       "      <td>-0.017646</td>\n",
       "      <td>151.0</td>\n",
       "    </tr>\n",
       "    <tr>\n",
       "      <th>1</th>\n",
       "      <td>-0.001882</td>\n",
       "      <td>-0.044642</td>\n",
       "      <td>-0.051474</td>\n",
       "      <td>-0.026328</td>\n",
       "      <td>-0.008449</td>\n",
       "      <td>-0.019163</td>\n",
       "      <td>0.074412</td>\n",
       "      <td>-0.039493</td>\n",
       "      <td>-0.068330</td>\n",
       "      <td>-0.092204</td>\n",
       "      <td>75.0</td>\n",
       "    </tr>\n",
       "    <tr>\n",
       "      <th>2</th>\n",
       "      <td>0.085299</td>\n",
       "      <td>0.050680</td>\n",
       "      <td>0.044451</td>\n",
       "      <td>-0.005671</td>\n",
       "      <td>-0.045599</td>\n",
       "      <td>-0.034194</td>\n",
       "      <td>-0.032356</td>\n",
       "      <td>-0.002592</td>\n",
       "      <td>0.002864</td>\n",
       "      <td>-0.025930</td>\n",
       "      <td>141.0</td>\n",
       "    </tr>\n",
       "    <tr>\n",
       "      <th>3</th>\n",
       "      <td>-0.089063</td>\n",
       "      <td>-0.044642</td>\n",
       "      <td>-0.011595</td>\n",
       "      <td>-0.036656</td>\n",
       "      <td>0.012191</td>\n",
       "      <td>0.024991</td>\n",
       "      <td>-0.036038</td>\n",
       "      <td>0.034309</td>\n",
       "      <td>0.022692</td>\n",
       "      <td>-0.009362</td>\n",
       "      <td>206.0</td>\n",
       "    </tr>\n",
       "    <tr>\n",
       "      <th>4</th>\n",
       "      <td>0.005383</td>\n",
       "      <td>-0.044642</td>\n",
       "      <td>-0.036385</td>\n",
       "      <td>0.021872</td>\n",
       "      <td>0.003935</td>\n",
       "      <td>0.015596</td>\n",
       "      <td>0.008142</td>\n",
       "      <td>-0.002592</td>\n",
       "      <td>-0.031991</td>\n",
       "      <td>-0.046641</td>\n",
       "      <td>135.0</td>\n",
       "    </tr>\n",
       "  </tbody>\n",
       "</table>\n",
       "</div>"
      ],
      "text/plain": [
       "        age       sex       bmi        bp        s1        s2        s3  \\\n",
       "0  0.038076  0.050680  0.061696  0.021872 -0.044223 -0.034821 -0.043401   \n",
       "1 -0.001882 -0.044642 -0.051474 -0.026328 -0.008449 -0.019163  0.074412   \n",
       "2  0.085299  0.050680  0.044451 -0.005671 -0.045599 -0.034194 -0.032356   \n",
       "3 -0.089063 -0.044642 -0.011595 -0.036656  0.012191  0.024991 -0.036038   \n",
       "4  0.005383 -0.044642 -0.036385  0.021872  0.003935  0.015596  0.008142   \n",
       "\n",
       "         s4        s5        s6  target  \n",
       "0 -0.002592  0.019908 -0.017646   151.0  \n",
       "1 -0.039493 -0.068330 -0.092204    75.0  \n",
       "2 -0.002592  0.002864 -0.025930   141.0  \n",
       "3  0.034309  0.022692 -0.009362   206.0  \n",
       "4 -0.002592 -0.031991 -0.046641   135.0  "
      ]
     },
     "execution_count": 2,
     "metadata": {},
     "output_type": "execute_result"
    }
   ],
   "source": [
    "diabetes_X, diabetes_y = datasets.load_diabetes(return_X_y=True, as_frame=True)\n",
    "diabetes = pd.concat([diabetes_X, diabetes_y], axis=1)\n",
    "diabetes.head()"
   ]
  },
  {
   "cell_type": "markdown",
   "metadata": {},
   "source": [
    "## Pregunta 1\n",
    "\n",
    "(1 pto)\n",
    "\n",
    "* ¿Por qué la columna de sexo tiene esos valores?\n",
    "* ¿Cuál es la columna a predecir?\n",
    "* ¿Crees que es necesario escalar o transformar los datos antes de comenzar el modelamiento?"
   ]
  },
  {
   "cell_type": "markdown",
   "metadata": {},
   "source": [
    "__Respuesta:__\n",
    "\n",
    "* Se ve que existen dos tipos de valores en la columna sex, cada una dependiento a los dos sexos estudiados. Se ve de esa forma porque los valores fueron promediados y escalados por la desviación estándar multiplicado por el numero de muestras. \n",
    "* La columna a predecir es \"target\" (columna 11) que de acuerdo a la documentación es una medida cuantitativa de la progresión de la enfermedad, un año después de la línea de base.\n",
    "* Escalar puede traer problemas numéricos, pero permite una mejor interpretación y visualización de los resultados. Además, si hay muchos datos, pueden tener distintas escalas de magnitud, por lo que si creo que sea necesario."
   ]
  },
  {
   "cell_type": "markdown",
   "metadata": {},
   "source": [
    "## Pregunta 2\n",
    "\n",
    "(1 pto)\n",
    "\n",
    "Realiza dos regresiones lineales con todas las _features_, el primer caso incluyendo intercepto y el segundo sin intercepto. Luego obtén la predicción para así calcular el error cuadrático medio y coeficiente de determinación de cada uno de ellos."
   ]
  },
  {
   "cell_type": "code",
   "execution_count": 3,
   "metadata": {},
   "outputs": [
    {
     "data": {
      "text/plain": [
       "LinearRegression()"
      ]
     },
     "execution_count": 3,
     "metadata": {},
     "output_type": "execute_result"
    }
   ],
   "source": [
    "regr_with_incerpet = linear_model.LinearRegression(fit_intercept=True)\n",
    "regr_with_incerpet.fit(diabetes_X, diabetes_y)"
   ]
  },
  {
   "cell_type": "code",
   "execution_count": 4,
   "metadata": {
    "collapsed": true,
    "jupyter": {
     "outputs_hidden": true
    }
   },
   "outputs": [
    {
     "data": {
      "text/plain": [
       "array([206.11706979,  68.07234761, 176.88406035, 166.91796559,\n",
       "       128.45984241, 106.34908972,  73.89417947, 118.85378669,\n",
       "       158.81033076, 213.58408893,  97.07853583,  95.1016223 ,\n",
       "       115.06673301, 164.67605023, 103.07517946, 177.17236996,\n",
       "       211.75953205, 182.84424343, 147.99987605, 124.01702527,\n",
       "       120.33094632,  85.80377894, 113.11286302, 252.44934852,\n",
       "       165.48821056, 147.72187623,  97.12824075, 179.09342974,\n",
       "       129.05497324, 184.78138552, 158.71515746,  69.47588393,\n",
       "       261.50255826, 112.81897436,  78.37194762,  87.66624129,\n",
       "       207.92460213, 157.87686037, 240.84370686, 136.93372685,\n",
       "       153.48187659,  74.15703284, 145.63105805,  77.8280105 ,\n",
       "       221.0786645 , 125.22224022, 142.60147066, 109.4926324 ,\n",
       "        73.14037106, 189.87368742, 157.93636782, 169.55816531,\n",
       "       134.18186217, 157.72356219, 139.1077439 ,  72.73252701,\n",
       "       207.8289973 ,  80.10834588, 104.08562488, 134.57807971,\n",
       "       114.23779529, 180.67760064,  61.12644508,  98.7215441 ,\n",
       "       113.79626149, 189.96141244, 148.98263155, 124.33457266,\n",
       "       114.83969622, 122.00224605,  73.91315064, 236.70948329,\n",
       "       142.31366526, 124.51427625, 150.84273716, 127.75408702,\n",
       "       191.16674356,  77.05921006, 166.82129568,  91.00741773,\n",
       "       174.75026808, 122.83488194,  63.27214662, 151.99895968,\n",
       "        53.73407848, 166.00134469,  42.65030679, 153.04135861,\n",
       "        80.54493791, 106.9048058 ,  79.94239571, 187.1634566 ,\n",
       "       192.60115666,  61.07125918, 107.40466928, 125.04038427,\n",
       "       207.72180472, 214.21749964, 123.47505642, 139.16396617,\n",
       "       168.21035724, 106.9267784 , 150.64502809, 157.92231541,\n",
       "       152.75856279, 116.22255529,  73.03090141, 155.66898717,\n",
       "       230.14278537, 143.50191007,  38.0947967 , 121.860737  ,\n",
       "       152.79569851, 207.99651918, 291.23082717, 189.17431487,\n",
       "       214.02871163, 235.18090808, 165.3872774 , 151.25000032,\n",
       "       156.57626783, 200.44154589, 219.35211772, 174.79049427,\n",
       "       169.23161767, 187.8719893 ,  57.49473392, 108.55110499,\n",
       "        92.68518048, 210.87365701, 245.47433558,  69.84529943,\n",
       "       113.0351432 ,  68.42945176, 141.69628649, 239.46177949,\n",
       "        58.3802079 , 235.47268158, 254.91986281, 253.31042713,\n",
       "       155.50813249, 230.55904185, 170.44063216, 117.99200943,\n",
       "       178.55548636, 240.07155813, 190.3398776 , 228.66100769,\n",
       "       114.24162642, 178.36570405, 209.09273631, 144.85567253,\n",
       "       200.65791056, 121.34184881, 150.50918174, 199.02165018,\n",
       "       146.2806806 , 124.02443772,  85.26036769, 235.16536625,\n",
       "        82.17255475, 231.29266191, 144.36634395, 197.04778326,\n",
       "       146.99720377,  77.18477545,  59.3728572 , 262.67891084,\n",
       "       225.12578458, 220.20506312,  46.59691745,  88.1040833 ,\n",
       "       221.77623752,  97.24900614, 164.48869956, 119.90114263,\n",
       "       157.79986195, 223.08505437,  99.5885471 , 165.84341641,\n",
       "       179.47571002,  89.83382843, 171.82492808, 158.36337775,\n",
       "       201.47857482, 186.39202728, 197.47094269,  66.57241937,\n",
       "       154.59826802, 116.18638034, 195.92074021, 128.04740268,\n",
       "        91.20285628, 140.56975398, 155.23013996, 169.70207476,\n",
       "        98.75498537, 190.1453107 , 142.5193942 , 177.26966106,\n",
       "        95.31403505,  69.0645889 , 164.16669511, 198.06460718,\n",
       "       178.26228169, 228.58801706, 160.67275473, 212.28682319,\n",
       "       222.48172067, 172.85184399, 125.27697688, 174.7240982 ,\n",
       "       152.38282657,  98.58485669,  99.73695497, 262.29658755,\n",
       "       223.73784832, 221.3425256 , 133.61497308, 145.42593933,\n",
       "        53.04259372, 141.81807792, 153.68369915, 125.21948824,\n",
       "        77.25091512, 230.26311068,  78.90849563, 105.20931175,\n",
       "       117.99633487,  99.06361032, 166.55382825, 159.34391027,\n",
       "       158.27612808, 143.05658763, 231.55938678, 176.64144413,\n",
       "       187.23572317,  65.38504165, 190.66078824, 179.74973878,\n",
       "       234.91022512, 119.15540438,  85.63464409, 100.85860205,\n",
       "       140.4174259 , 101.83836332, 120.66138775,  83.06599161,\n",
       "       234.58754656, 245.16192142, 263.26766492, 274.87431887,\n",
       "       180.67699732, 203.05474761, 254.21769367, 118.44122343,\n",
       "       268.44988948, 104.83643442, 115.87172349, 140.45788952,\n",
       "        58.46850453, 129.83264097, 263.78452618,  45.01240356,\n",
       "       123.28697604, 131.08314499,  34.89018315, 138.35659686,\n",
       "       244.30370588,  89.95612306, 192.07094588, 164.32674962,\n",
       "       147.74783541, 191.89381753, 176.44296313, 158.34707354,\n",
       "       189.19183226, 116.58275843, 111.44622859, 117.45262547,\n",
       "       165.79457547,  97.80241129, 139.54389024,  84.17453643,\n",
       "       159.9389204 , 202.4011919 ,  80.48200416, 146.64621068,\n",
       "        79.05274311, 191.33759392, 220.67545196, 203.75145711,\n",
       "        92.87093594, 179.15570241,  81.80126162, 152.82706623,\n",
       "        76.79700486,  97.79712384, 106.83424483, 123.83477117,\n",
       "       218.13375502, 126.02077447, 206.76300555, 230.57976636,\n",
       "       122.0628518 , 135.67694517, 126.36969016, 148.49621551,\n",
       "        88.07082258, 138.95595037, 203.86570118, 172.55362727,\n",
       "       122.95773416, 213.92445645, 174.88857841, 110.07169487,\n",
       "       198.36767241, 173.24601643, 162.64946177, 193.31777358,\n",
       "       191.53802295, 284.13478714, 279.30688474, 216.0070265 ,\n",
       "       210.08517801, 216.22213925, 157.01489819, 224.06561179,\n",
       "       189.05840605, 103.56829281, 178.70442926, 111.81492124,\n",
       "       290.99913121, 182.64959461,  79.33602602,  86.33287509,\n",
       "       249.15238929, 174.51439576, 122.10645431, 146.27099383,\n",
       "       170.6555544 , 183.50018707, 163.36970989, 157.03563376,\n",
       "       144.42617093, 125.30179325, 177.50072942, 104.57821235,\n",
       "       132.1746674 ,  95.06145678, 249.9007786 ,  86.24033937,\n",
       "        62.00077469, 156.81087903, 192.3231713 , 133.85292727,\n",
       "        93.67456315, 202.49458467,  52.53953733, 174.82926235,\n",
       "       196.9141296 , 118.06646574, 235.3011088 , 165.09286707,\n",
       "       160.41863314, 162.37831419, 254.05718804, 257.23616403,\n",
       "       197.50578991, 184.06609359,  58.62043851, 194.3950396 ,\n",
       "       110.77475548, 142.20916765, 128.82725506, 180.12844365,\n",
       "       211.26415225, 169.59711427, 164.34167693, 136.2363478 ,\n",
       "       174.50905908,  74.67649224, 246.29542114, 114.14131338,\n",
       "       111.54358708, 140.02313284, 109.99647408,  91.37269237,\n",
       "       163.01389345,  75.16389857, 254.05755095,  53.47055785,\n",
       "        98.48060512, 100.66268306, 258.58885744, 170.67482041,\n",
       "        61.91866052, 182.3042492 , 171.26913027, 189.19307553,\n",
       "       187.18384852,  87.12032949, 148.37816611, 251.35898288,\n",
       "       199.69712357, 283.63722409,  50.85577124, 172.14848891,\n",
       "       204.06179478, 174.16816194, 157.93027543, 150.50201654,\n",
       "       232.9761832 , 121.5808709 , 164.54891787, 172.67742636,\n",
       "       226.78005938, 149.46967223,  99.14026374,  80.43680779,\n",
       "       140.15557121, 191.90593837, 199.27952034, 153.63210613,\n",
       "       171.80130949, 112.11314588, 162.60650576, 129.8448476 ,\n",
       "       258.02898298, 100.70869427, 115.87611124, 122.53790409,\n",
       "       218.17749233,  60.94590955, 131.09513588, 119.48417359,\n",
       "        52.60848094, 193.01802803, 101.05169913, 121.22505534,\n",
       "       211.8588945 ,  53.44819015])"
      ]
     },
     "execution_count": 4,
     "metadata": {},
     "output_type": "execute_result"
    }
   ],
   "source": [
    "diabetes_y_pred_with_intercept = regr_with_incerpet.predict(diabetes_X)\n",
    "diabetes_y_pred_with_intercept"
   ]
  },
  {
   "cell_type": "code",
   "execution_count": 5,
   "metadata": {},
   "outputs": [
    {
     "name": "stdout",
     "output_type": "stream",
     "text": [
      "Coefficients: \n",
      "[ -10.01219782 -239.81908937  519.83978679  324.39042769 -792.18416163\n",
      "  476.74583782  101.04457032  177.06417623  751.27932109   67.62538639]\n",
      "\n",
      "Intercept: \n",
      "152.1334841628965\n",
      "\n",
      "Mean squared error: 2859.69\n",
      "\n",
      "Coefficient of determination: 0.52\n"
     ]
    }
   ],
   "source": [
    "# Coeficientes\n",
    "print(f\"Coefficients: \\n{regr_with_incerpet.coef_}\\n\")\n",
    "# Intercepto\n",
    "print(f\"Intercept: \\n{regr_with_incerpet.intercept_}\\n\")\n",
    "# Error cuadrático medio\n",
    "print(f\"Mean squared error: {mean_squared_error(diabetes_y,diabetes_y_pred_with_intercept):.2f}\\n\")\n",
    "# Coeficiente de determinación\n",
    "print(f\"Coefficient of determination: {r2_score(diabetes_y,diabetes_y_pred_with_intercept):.2f}\")"
   ]
  },
  {
   "cell_type": "code",
   "execution_count": 6,
   "metadata": {},
   "outputs": [
    {
     "data": {
      "text/plain": [
       "LinearRegression(fit_intercept=False)"
      ]
     },
     "execution_count": 6,
     "metadata": {},
     "output_type": "execute_result"
    }
   ],
   "source": [
    "regr_without_incerpet = linear_model.LinearRegression(fit_intercept=False)\n",
    "regr_without_incerpet.fit(diabetes_X, diabetes_y)"
   ]
  },
  {
   "cell_type": "code",
   "execution_count": 7,
   "metadata": {},
   "outputs": [],
   "source": [
    "diabetes_y_pred_without_intercept = regr_without_incerpet.predict(diabetes_X)"
   ]
  },
  {
   "cell_type": "code",
   "execution_count": 8,
   "metadata": {},
   "outputs": [
    {
     "name": "stdout",
     "output_type": "stream",
     "text": [
      "Coefficients: \n",
      "[ -10.01219782 -239.81908937  519.83978679  324.39042769 -792.18416163\n",
      "  476.74583782  101.04457032  177.06417623  751.27932109   67.62538639]\n",
      "\n",
      "Mean squared error: 26004.29\n",
      "\n",
      "Coefficient of determination: -3.39\n"
     ]
    }
   ],
   "source": [
    "# Coeficientes\n",
    "print(f\"Coefficients: \\n{regr_without_incerpet.coef_}\\n\")\n",
    "# Error cuadrático medio\n",
    "print(f\"Mean squared error: {mean_squared_error(diabetes_y,diabetes_y_pred_without_intercept):.2f}\\n\")\n",
    "# Coeficiente de determinación\n",
    "print(f\"Coefficient of determination: {r2_score(diabetes_y,diabetes_y_pred_without_intercept):.2f}\")"
   ]
  },
  {
   "cell_type": "markdown",
   "metadata": {},
   "source": [
    "**Pregunta: ¿Qué tan bueno fue el ajuste del modelo?**"
   ]
  },
  {
   "cell_type": "markdown",
   "metadata": {},
   "source": [
    "__Respuesta:__\n",
    " El ajuste del modelo fue bueno cuando se consideraba el intercepto, pero cuando no se consideraba, era considerablemente mas malo. Considerando el intercepto tenemos un error cuadrático medio de 2859.7, mientras que no considerandolo, 26004.3, casi 9 veces mas. El valor de r2 es de 0.52 considerando el intercepto, sin considerarlo es hasta negativo, debido a la poca correlación que existe. El ajuste con intercepto es un buen modelo, aunque quizás no el más preciso."
   ]
  },
  {
   "cell_type": "markdown",
   "metadata": {},
   "source": [
    "## Pregunta 3\n",
    "\n",
    "(1 pto)\n",
    "\n",
    "Realizar multiples regresiones lineales utilizando una sola _feature_ a la vez. \n",
    "\n",
    "En cada iteración:\n",
    "\n",
    "- Crea un arreglo `X_1`con solo una feature filtrando `X`.\n",
    "- Crea un modelo de regresión lineal con intercepto.\n",
    "- Ajusta el modelo anterior.\n",
    "- Genera una predicción con el modelo.\n",
    "- Calcula e imprime las métricas de la pregunta anterior."
   ]
  },
  {
   "cell_type": "code",
   "execution_count": 20,
   "metadata": {},
   "outputs": [
    {
     "name": "stdout",
     "output_type": "stream",
     "text": [
      "Feature: age\n",
      "\tCoefficients: [304.18307453]\n",
      "\tIntercept: 152.13348416289605\n",
      "\tMean squared error: 5720.55\n",
      "\tCoefficient of determination: 0.04\n",
      "\n",
      "Feature: sex\n",
      "\tCoefficients: [69.71535568]\n",
      "\tIntercept: 152.13348416289594\n",
      "\tMean squared error: 5918.89\n",
      "\tCoefficient of determination: 0.00\n",
      "\n",
      "Feature: bmi\n",
      "\tCoefficients: [949.43526038]\n",
      "\tIntercept: 152.1334841628967\n",
      "\tMean squared error: 3890.46\n",
      "\tCoefficient of determination: 0.34\n",
      "\n",
      "Feature: bp\n",
      "\tCoefficients: [714.7416437]\n",
      "\tIntercept: 152.13348416289585\n",
      "\tMean squared error: 4774.10\n",
      "\tCoefficient of determination: 0.19\n",
      "\n",
      "Feature: s1\n",
      "\tCoefficients: [343.25445189]\n",
      "\tIntercept: 152.13348416289597\n",
      "\tMean squared error: 5663.32\n",
      "\tCoefficient of determination: 0.04\n",
      "\n",
      "Feature: s2\n",
      "\tCoefficients: [281.78459335]\n",
      "\tIntercept: 152.1334841628959\n",
      "\tMean squared error: 5750.24\n",
      "\tCoefficient of determination: 0.03\n",
      "\n",
      "Feature: s3\n",
      "\tCoefficients: [-639.14527932]\n",
      "\tIntercept: 152.13348416289566\n",
      "\tMean squared error: 5005.66\n",
      "\tCoefficient of determination: 0.16\n",
      "\n",
      "Feature: s4\n",
      "\tCoefficients: [696.88303009]\n",
      "\tIntercept: 152.13348416289568\n",
      "\tMean squared error: 4831.14\n",
      "\tCoefficient of determination: 0.19\n",
      "\n",
      "Feature: s5\n",
      "\tCoefficients: [916.13872282]\n",
      "\tIntercept: 152.13348416289628\n",
      "\tMean squared error: 4030.99\n",
      "\tCoefficient of determination: 0.32\n",
      "\n",
      "Feature: s6\n",
      "\tCoefficients: [619.22282068]\n",
      "\tIntercept: 152.13348416289614\n",
      "\tMean squared error: 5062.38\n",
      "\tCoefficient of determination: 0.15\n",
      "\n"
     ]
    }
   ],
   "source": [
    "for col in diabetes_X.columns:\n",
    "    X_i = pd.DataFrame(diabetes_X[col])\n",
    "    regr_i = linear_model.LinearRegression(fit_intercept=True)\n",
    "    regr_i.fit(X_i,diabetes_y)\n",
    "    diabetes_y_pred_i = regr_i.predict(X_i)\n",
    "    print(f\"Feature: {col}\")\n",
    "    print(f\"\\tCoefficients: {regr_i.coef_}\")\n",
    "    print(f\"\\tIntercept: {regr_i.intercept_}\")\n",
    "    print(f\"\\tMean squared error: {mean_squared_error(diabetes_y,diabetes_y_pred_i):.2f}\")\n",
    "    print(f\"\\tCoefficient of determination: {r2_score(diabetes_y,diabetes_y_pred_i):.2f}\\n\")"
   ]
  },
  {
   "cell_type": "markdown",
   "metadata": {},
   "source": [
    "**Pregunta: Si tuvieras que escoger una sola _feauture_, ¿Cuál sería? ¿Por qué?**"
   ]
  },
  {
   "cell_type": "markdown",
   "metadata": {},
   "source": [
    "**Respuesta:** Escogería la feature de `bmi`, debido a que posee el menor error cuadrático entre todas las otras features, y el mayor valor de coeficiente de determinación r2, igual a 0.34"
   ]
  },
  {
   "cell_type": "markdown",
   "metadata": {},
   "source": [
    "## Ejercicio 4\n",
    "\n",
    "(1 pto)\n",
    "\n",
    "Con la feature escogida en el ejercicio 3 realiza el siguiente gráfico:\n",
    "\n",
    "- Scatter Plot\n",
    "- Eje X: Valores de la feature escogida.\n",
    "- Eje Y: Valores de la columna a predecir (target).\n",
    "- En color rojo dibuja la recta correspondiente a la regresión lineal (utilizando `intercept_`y `coefs_`).\n",
    "- Coloca un título adecuado, nombre de los ejes, etc.\n",
    "\n",
    "Puedes utilizar `matplotlib` o `altair`, el que prefieras."
   ]
  },
  {
   "cell_type": "code",
   "execution_count": 11,
   "metadata": {},
   "outputs": [],
   "source": [
    "regr = linear_model.LinearRegression(fit_intercept=True).fit(pd.DataFrame(diabetes_X[\"bmi\"]),diabetes_y)"
   ]
  },
  {
   "cell_type": "code",
   "execution_count": 19,
   "metadata": {},
   "outputs": [
    {
     "data": {
      "text/html": [
       "\n",
       "<div id=\"altair-viz-9144c4af739e474d871543aff3ea2466\"></div>\n",
       "<script type=\"text/javascript\">\n",
       "  (function(spec, embedOpt){\n",
       "    let outputDiv = document.currentScript.previousElementSibling;\n",
       "    if (outputDiv.id !== \"altair-viz-9144c4af739e474d871543aff3ea2466\") {\n",
       "      outputDiv = document.getElementById(\"altair-viz-9144c4af739e474d871543aff3ea2466\");\n",
       "    }\n",
       "    const paths = {\n",
       "      \"vega\": \"https://cdn.jsdelivr.net/npm//vega@5?noext\",\n",
       "      \"vega-lib\": \"https://cdn.jsdelivr.net/npm//vega-lib?noext\",\n",
       "      \"vega-lite\": \"https://cdn.jsdelivr.net/npm//vega-lite@4.8.1?noext\",\n",
       "      \"vega-embed\": \"https://cdn.jsdelivr.net/npm//vega-embed@6?noext\",\n",
       "    };\n",
       "\n",
       "    function loadScript(lib) {\n",
       "      return new Promise(function(resolve, reject) {\n",
       "        var s = document.createElement('script');\n",
       "        s.src = paths[lib];\n",
       "        s.async = true;\n",
       "        s.onload = () => resolve(paths[lib]);\n",
       "        s.onerror = () => reject(`Error loading script: ${paths[lib]}`);\n",
       "        document.getElementsByTagName(\"head\")[0].appendChild(s);\n",
       "      });\n",
       "    }\n",
       "\n",
       "    function showError(err) {\n",
       "      outputDiv.innerHTML = `<div class=\"error\" style=\"color:red;\">${err}</div>`;\n",
       "      throw err;\n",
       "    }\n",
       "\n",
       "    function displayChart(vegaEmbed) {\n",
       "      vegaEmbed(outputDiv, spec, embedOpt)\n",
       "        .catch(err => showError(`Javascript Error: ${err.message}<br>This usually means there's a typo in your chart specification. See the javascript console for the full traceback.`));\n",
       "    }\n",
       "\n",
       "    if(typeof define === \"function\" && define.amd) {\n",
       "      requirejs.config({paths});\n",
       "      require([\"vega-embed\"], displayChart, err => showError(`Error loading script: ${err.message}`));\n",
       "    } else if (typeof vegaEmbed === \"function\") {\n",
       "      displayChart(vegaEmbed);\n",
       "    } else {\n",
       "      loadScript(\"vega\")\n",
       "        .then(() => loadScript(\"vega-lite\"))\n",
       "        .then(() => loadScript(\"vega-embed\"))\n",
       "        .catch(showError)\n",
       "        .then(() => displayChart(vegaEmbed));\n",
       "    }\n",
       "  })({\"config\": {\"background\": \"white\", \"view\": {\"continuousWidth\": 400, \"continuousHeight\": 300}}, \"layer\": [{\"data\": {\"name\": \"data-a621d16866a55f7659208a4e961bc984\"}, \"mark\": {\"type\": \"circle\", \"size\": 60}, \"encoding\": {\"x\": {\"type\": \"quantitative\", \"axis\": {\"title\": \"Body Mass Index (Normalized)\"}, \"field\": \"bmi\"}, \"y\": {\"type\": \"quantitative\", \"axis\": {\"title\": \"Target: Disease progression\"}, \"field\": \"target\"}}, \"title\": \"Disease progression (target) vs Body Mass Index Normalized (bmi)\"}, {\"data\": {\"name\": \"data-12e00eda8d2e98e9a53f526fc8cb991b\"}, \"mark\": {\"type\": \"line\", \"color\": \"red\"}, \"encoding\": {\"x\": {\"type\": \"quantitative\", \"field\": \"bmi\"}, \"y\": {\"type\": \"quantitative\", \"field\": \"target\"}}, \"title\": \"Lineal regression\"}], \"$schema\": \"https://vega.github.io/schema/vega-lite/v4.8.1.json\", \"datasets\": {\"data-a621d16866a55f7659208a4e961bc984\": [{\"bmi\": 0.0616962065186885, \"target\": 151.0}, {\"bmi\": -0.0514740612388061, \"target\": 75.0}, {\"bmi\": 0.0444512133365941, \"target\": 141.0}, {\"bmi\": -0.0115950145052127, \"target\": 206.0}, {\"bmi\": -0.0363846922044735, \"target\": 135.0}, {\"bmi\": -0.0406959404999971, \"target\": 97.0}, {\"bmi\": -0.0471628129432825, \"target\": 138.0}, {\"bmi\": -0.00189470584028465, \"target\": 63.0}, {\"bmi\": 0.0616962065186885, \"target\": 110.0}, {\"bmi\": 0.0390621529671896, \"target\": 310.0}, {\"bmi\": -0.0838084234552331, \"target\": 101.0}, {\"bmi\": 0.0175059114895716, \"target\": 69.0}, {\"bmi\": -0.0288400076873072, \"target\": 179.0}, {\"bmi\": -0.00189470584028465, \"target\": 185.0}, {\"bmi\": -0.0256065714656645, \"target\": 118.0}, {\"bmi\": -0.0180618869484982, \"target\": 171.0}, {\"bmi\": 0.0422955891888323, \"target\": 166.0}, {\"bmi\": 0.0121168511201671, \"target\": 144.0}, {\"bmi\": -0.0105172024313319, \"target\": 97.0}, {\"bmi\": -0.0180618869484982, \"target\": 168.0}, {\"bmi\": -0.0568631216082106, \"target\": 68.0}, {\"bmi\": -0.0223731352440218, \"target\": 49.0}, {\"bmi\": -0.00405032998804645, \"target\": 68.0}, {\"bmi\": 0.0606183944448076, \"target\": 245.0}, {\"bmi\": 0.0358287167455469, \"target\": 184.0}, {\"bmi\": -0.0126728265790937, \"target\": 202.0}, {\"bmi\": -0.0773415510119477, \"target\": 137.0}, {\"bmi\": 0.0595405823709267, \"target\": 85.0}, {\"bmi\": -0.0212953231701409, \"target\": 131.0}, {\"bmi\": -0.00620595413580824, \"target\": 283.0}, {\"bmi\": 0.0444512133365941, \"target\": 129.0}, {\"bmi\": -0.0654856181992578, \"target\": 59.0}, {\"bmi\": 0.125287118877662, \"target\": 341.0}, {\"bmi\": -0.0503962491649252, \"target\": 87.0}, {\"bmi\": -0.063329994051496, \"target\": 65.0}, {\"bmi\": -0.030995631835069, \"target\": 102.0}, {\"bmi\": 0.0228949718589761, \"target\": 265.0}, {\"bmi\": 0.0110390390462862, \"target\": 276.0}, {\"bmi\": 0.0713965151836166, \"target\": 252.0}, {\"bmi\": 0.0142724752679289, \"target\": 90.0}, {\"bmi\": -0.00836157828357004, \"target\": 100.0}, {\"bmi\": -0.0676412423470196, \"target\": 55.0}, {\"bmi\": -0.0105172024313319, \"target\": 61.0}, {\"bmi\": -0.0234509473179027, \"target\": 92.0}, {\"bmi\": 0.068163078961974, \"target\": 259.0}, {\"bmi\": -0.0353068801305926, \"target\": 53.0}, {\"bmi\": -0.0115950145052127, \"target\": 190.0}, {\"bmi\": -0.0730303027164241, \"target\": 142.0}, {\"bmi\": -0.041773752573878, \"target\": 75.0}, {\"bmi\": 0.0142724752679289, \"target\": 142.0}, {\"bmi\": -0.00728376620968916, \"target\": 155.0}, {\"bmi\": 0.0164280994156907, \"target\": 225.0}, {\"bmi\": -0.00943939035745095, \"target\": 59.0}, {\"bmi\": -0.0159062628007364, \"target\": 104.0}, {\"bmi\": 0.0250505960067379, \"target\": 182.0}, {\"bmi\": -0.0493184370910443, \"target\": 128.0}, {\"bmi\": 0.0412177771149514, \"target\": 52.0}, {\"bmi\": -0.063329994051496, \"target\": 37.0}, {\"bmi\": -0.064407806125377, \"target\": 170.0}, {\"bmi\": -0.0256065714656645, \"target\": 170.0}, {\"bmi\": -0.00405032998804645, \"target\": 61.0}, {\"bmi\": 0.00457216660300077, \"target\": 144.0}, {\"bmi\": -0.00728376620968916, \"target\": 52.0}, {\"bmi\": -0.0374625042783544, \"target\": 128.0}, {\"bmi\": -0.0256065714656645, \"target\": 71.0}, {\"bmi\": -0.0245287593917836, \"target\": 163.0}, {\"bmi\": -0.0180618869484982, \"target\": 150.0}, {\"bmi\": -0.0148284507268555, \"target\": 97.0}, {\"bmi\": -0.0299178197611881, \"target\": 160.0}, {\"bmi\": -0.0460850008694016, \"target\": 178.0}, {\"bmi\": -0.0697968664947814, \"target\": 48.0}, {\"bmi\": 0.0336730925977851, \"target\": 270.0}, {\"bmi\": -0.00405032998804645, \"target\": 202.0}, {\"bmi\": -0.02021751109626, \"target\": 111.0}, {\"bmi\": 0.00241654245523897, \"target\": 85.0}, {\"bmi\": -0.030995631835069, \"target\": 42.0}, {\"bmi\": 0.0282840322283806, \"target\": 170.0}, {\"bmi\": -0.0363846922044735, \"target\": 200.0}, {\"bmi\": -0.0579409336820915, \"target\": 252.0}, {\"bmi\": -0.0374625042783544, \"target\": 113.0}, {\"bmi\": 0.0121168511201671, \"target\": 143.0}, {\"bmi\": -0.0223731352440218, \"target\": 51.0}, {\"bmi\": -0.0353068801305926, \"target\": 52.0}, {\"bmi\": 0.00996122697240527, \"target\": 210.0}, {\"bmi\": -0.0396181284261162, \"target\": 65.0}, {\"bmi\": 0.0713965151836166, \"target\": 141.0}, {\"bmi\": -0.0751859268641859, \"target\": 55.0}, {\"bmi\": -0.00620595413580824, \"target\": 134.0}, {\"bmi\": -0.0406959404999971, \"target\": 42.0}, {\"bmi\": -0.0482406250171634, \"target\": 111.0}, {\"bmi\": -0.0256065714656645, \"target\": 98.0}, {\"bmi\": 0.0519958978537604, \"target\": 164.0}, {\"bmi\": 0.00457216660300077, \"target\": 48.0}, {\"bmi\": -0.064407806125377, \"target\": 96.0}, {\"bmi\": -0.0169840748746173, \"target\": 90.0}, {\"bmi\": -0.0579409336820915, \"target\": 162.0}, {\"bmi\": 0.00996122697240527, \"target\": 150.0}, {\"bmi\": 0.088641508365711, \"target\": 279.0}, {\"bmi\": -0.00512814206192736, \"target\": 92.0}, {\"bmi\": -0.064407806125377, \"target\": 83.0}, {\"bmi\": 0.0175059114895716, \"target\": 128.0}, {\"bmi\": -0.0450071887955207, \"target\": 102.0}, {\"bmi\": 0.0282840322283806, \"target\": 302.0}, {\"bmi\": 0.0412177771149514, \"target\": 198.0}, {\"bmi\": 0.0649296427403312, \"target\": 95.0}, {\"bmi\": -0.0320734439089499, \"target\": 53.0}, {\"bmi\": -0.0762637389380668, \"target\": 134.0}, {\"bmi\": 0.0498402737059986, \"target\": 144.0}, {\"bmi\": 0.045529025410475, \"target\": 232.0}, {\"bmi\": -0.00943939035745095, \"target\": 81.0}, {\"bmi\": -0.0320734439089499, \"target\": 104.0}, {\"bmi\": 0.00457216660300077, \"target\": 59.0}, {\"bmi\": 0.0207393477112143, \"target\": 246.0}, {\"bmi\": 0.0142724752679289, \"target\": 297.0}, {\"bmi\": 0.110197749843329, \"target\": 258.0}, {\"bmi\": 0.00133873038135806, \"target\": 229.0}, {\"bmi\": 0.0584627702970458, \"target\": 275.0}, {\"bmi\": -0.0212953231701409, \"target\": 281.0}, {\"bmi\": -0.0105172024313319, \"target\": 179.0}, {\"bmi\": -0.0471628129432825, \"target\": 200.0}, {\"bmi\": 0.00457216660300077, \"target\": 200.0}, {\"bmi\": 0.0175059114895716, \"target\": 173.0}, {\"bmi\": 0.0810968238485447, \"target\": 180.0}, {\"bmi\": 0.034750904671666, \"target\": 84.0}, {\"bmi\": 0.023972783932857, \"target\": 121.0}, {\"bmi\": -0.00836157828357004, \"target\": 161.0}, {\"bmi\": -0.0611743699037342, \"target\": 99.0}, {\"bmi\": -0.00189470584028465, \"target\": 109.0}, {\"bmi\": -0.0622521819776151, \"target\": 115.0}, {\"bmi\": 0.0164280994156907, \"target\": 268.0}, {\"bmi\": 0.0961861928828773, \"target\": 274.0}, {\"bmi\": -0.0697968664947814, \"target\": 158.0}, {\"bmi\": -0.0212953231701409, \"target\": 107.0}, {\"bmi\": -0.0536296853865679, \"target\": 83.0}, {\"bmi\": 0.0433734012627132, \"target\": 103.0}, {\"bmi\": 0.056307146149284, \"target\": 272.0}, {\"bmi\": -0.0816527993074713, \"target\": 85.0}, {\"bmi\": 0.0498402737059986, \"target\": 280.0}, {\"bmi\": 0.11127556191721, \"target\": 336.0}, {\"bmi\": 0.0616962065186885, \"target\": 281.0}, {\"bmi\": 0.0142724752679289, \"target\": 118.0}, {\"bmi\": 0.0476846495582368, \"target\": 317.0}, {\"bmi\": 0.0121168511201671, \"target\": 235.0}, {\"bmi\": 0.00564997867688165, \"target\": 60.0}, {\"bmi\": 0.0466068374843559, \"target\": 174.0}, {\"bmi\": 0.128520555099304, \"target\": 259.0}, {\"bmi\": 0.0595405823709267, \"target\": 178.0}, {\"bmi\": 0.0929527566612346, \"target\": 128.0}, {\"bmi\": 0.0153502873418098, \"target\": 96.0}, {\"bmi\": -0.00512814206192736, \"target\": 126.0}, {\"bmi\": 0.0703187031097357, \"target\": 288.0}, {\"bmi\": -0.00405032998804645, \"target\": 88.0}, {\"bmi\": -0.000816893766403737, \"target\": 292.0}, {\"bmi\": -0.0439293767216398, \"target\": 71.0}, {\"bmi\": 0.0207393477112143, \"target\": 197.0}, {\"bmi\": 0.0606183944448076, \"target\": 186.0}, {\"bmi\": -0.0105172024313319, \"target\": 25.0}, {\"bmi\": -0.0331512559828308, \"target\": 84.0}, {\"bmi\": -0.0654856181992578, \"target\": 96.0}, {\"bmi\": 0.0433734012627132, \"target\": 195.0}, {\"bmi\": -0.0622521819776151, \"target\": 53.0}, {\"bmi\": 0.0638518306664503, \"target\": 217.0}, {\"bmi\": 0.0304396563761424, \"target\": 172.0}, {\"bmi\": 0.0724743272574975, \"target\": 131.0}, {\"bmi\": -0.019139699022379, \"target\": 214.0}, {\"bmi\": -0.0665634302731387, \"target\": 59.0}, {\"bmi\": -0.0600965578298533, \"target\": 70.0}, {\"bmi\": 0.0692408910358548, \"target\": 220.0}, {\"bmi\": 0.0595405823709267, \"target\": 268.0}, {\"bmi\": -0.0266843835395454, \"target\": 152.0}, {\"bmi\": -0.02021751109626, \"target\": 47.0}, {\"bmi\": -0.0460850008694016, \"target\": 74.0}, {\"bmi\": 0.0713965151836166, \"target\": 295.0}, {\"bmi\": -0.0794971751597095, \"target\": 101.0}, {\"bmi\": 0.00996122697240527, \"target\": 151.0}, {\"bmi\": -0.0385403163522353, \"target\": 127.0}, {\"bmi\": 0.0196615356373334, \"target\": 237.0}, {\"bmi\": 0.0272062201544997, \"target\": 225.0}, {\"bmi\": -0.00836157828357004, \"target\": 81.0}, {\"bmi\": -0.0159062628007364, \"target\": 151.0}, {\"bmi\": 0.00457216660300077, \"target\": 107.0}, {\"bmi\": -0.0428515646477589, \"target\": 64.0}, {\"bmi\": 0.00564997867688165, \"target\": 138.0}, {\"bmi\": -0.0353068801305926, \"target\": 185.0}, {\"bmi\": 0.023972783932857, \"target\": 265.0}, {\"bmi\": -0.0180618869484982, \"target\": 101.0}, {\"bmi\": 0.0422955891888323, \"target\": 137.0}, {\"bmi\": -0.0547074974604488, \"target\": 143.0}, {\"bmi\": -0.00297251791416553, \"target\": 141.0}, {\"bmi\": -0.0665634302731387, \"target\": 79.0}, {\"bmi\": -0.0126728265790937, \"target\": 292.0}, {\"bmi\": -0.041773752573878, \"target\": 178.0}, {\"bmi\": -0.030995631835069, \"target\": 91.0}, {\"bmi\": -0.00512814206192736, \"target\": 116.0}, {\"bmi\": -0.0590187457559724, \"target\": 86.0}, {\"bmi\": 0.0250505960067379, \"target\": 122.0}, {\"bmi\": -0.0460850008694016, \"target\": 72.0}, {\"bmi\": 0.00349435452911985, \"target\": 129.0}, {\"bmi\": 0.0541515220015222, \"target\": 142.0}, {\"bmi\": -0.0450071887955207, \"target\": 90.0}, {\"bmi\": -0.0579409336820915, \"target\": 158.0}, {\"bmi\": -0.0557853095343297, \"target\": 39.0}, {\"bmi\": 0.00133873038135806, \"target\": 196.0}, {\"bmi\": 0.0304396563761424, \"target\": 222.0}, {\"bmi\": 0.00672779075076256, \"target\": 277.0}, {\"bmi\": 0.0466068374843559, \"target\": 99.0}, {\"bmi\": 0.0261284080806188, \"target\": 196.0}, {\"bmi\": 0.045529025410475, \"target\": 202.0}, {\"bmi\": 0.0401399650410705, \"target\": 155.0}, {\"bmi\": -0.0180618869484982, \"target\": 77.0}, {\"bmi\": 0.0142724752679289, \"target\": 191.0}, {\"bmi\": 0.0369065288194278, \"target\": 70.0}, {\"bmi\": 0.00349435452911985, \"target\": 73.0}, {\"bmi\": -0.0708746785686623, \"target\": 49.0}, {\"bmi\": -0.0331512559828308, \"target\": 65.0}, {\"bmi\": 0.0940305687351156, \"target\": 263.0}, {\"bmi\": 0.0358287167455469, \"target\": 248.0}, {\"bmi\": 0.0315174684500233, \"target\": 296.0}, {\"bmi\": -0.0654856181992578, \"target\": 214.0}, {\"bmi\": -0.041773752573878, \"target\": 185.0}, {\"bmi\": -0.0396181284261162, \"target\": 78.0}, {\"bmi\": -0.0385403163522353, \"target\": 93.0}, {\"bmi\": -0.0256065714656645, \"target\": 252.0}, {\"bmi\": -0.0234509473179027, \"target\": 150.0}, {\"bmi\": -0.0665634302731387, \"target\": 77.0}, {\"bmi\": 0.0325952805239042, \"target\": 208.0}, {\"bmi\": -0.0460850008694016, \"target\": 77.0}, {\"bmi\": -0.0299178197611881, \"target\": 108.0}, {\"bmi\": -0.0126728265790937, \"target\": 160.0}, {\"bmi\": -0.0159062628007364, \"target\": 53.0}, {\"bmi\": 0.0713965151836166, \"target\": 220.0}, {\"bmi\": -0.030995631835069, \"target\": 154.0}, {\"bmi\": 0.000260918307477141, \"target\": 259.0}, {\"bmi\": 0.0369065288194278, \"target\": 90.0}, {\"bmi\": 0.0390621529671896, \"target\": 246.0}, {\"bmi\": -0.0148284507268555, \"target\": 124.0}, {\"bmi\": 0.00672779075076256, \"target\": 67.0}, {\"bmi\": -0.0687190544209005, \"target\": 72.0}, {\"bmi\": -0.00943939035745095, \"target\": 257.0}, {\"bmi\": 0.0196615356373334, \"target\": 262.0}, {\"bmi\": 0.0746299514052593, \"target\": 275.0}, {\"bmi\": -0.00836157828357004, \"target\": 177.0}, {\"bmi\": -0.0234509473179027, \"target\": 71.0}, {\"bmi\": -0.0460850008694016, \"target\": 47.0}, {\"bmi\": 0.0541515220015222, \"target\": 187.0}, {\"bmi\": -0.0353068801305926, \"target\": 125.0}, {\"bmi\": -0.0320734439089499, \"target\": 78.0}, {\"bmi\": -0.0816527993074713, \"target\": 51.0}, {\"bmi\": 0.0476846495582368, \"target\": 258.0}, {\"bmi\": 0.0606183944448076, \"target\": 215.0}, {\"bmi\": 0.056307146149284, \"target\": 303.0}, {\"bmi\": 0.098341817030639, \"target\": 243.0}, {\"bmi\": 0.0595405823709267, \"target\": 91.0}, {\"bmi\": 0.0336730925977851, \"target\": 150.0}, {\"bmi\": 0.056307146149284, \"target\": 310.0}, {\"bmi\": -0.0654856181992578, \"target\": 153.0}, {\"bmi\": 0.160854917315731, \"target\": 346.0}, {\"bmi\": -0.0557853095343297, \"target\": 63.0}, {\"bmi\": -0.0245287593917836, \"target\": 89.0}, {\"bmi\": -0.0363846922044735, \"target\": 50.0}, {\"bmi\": -0.00836157828357004, \"target\": 39.0}, {\"bmi\": -0.041773752573878, \"target\": 103.0}, {\"bmi\": 0.127442743025423, \"target\": 308.0}, {\"bmi\": -0.0773415510119477, \"target\": 116.0}, {\"bmi\": 0.0282840322283806, \"target\": 145.0}, {\"bmi\": -0.0256065714656645, \"target\": 74.0}, {\"bmi\": -0.0622521819776151, \"target\": 45.0}, {\"bmi\": -0.000816893766403737, \"target\": 115.0}, {\"bmi\": 0.088641508365711, \"target\": 264.0}, {\"bmi\": -0.0320734439089499, \"target\": 87.0}, {\"bmi\": 0.0304396563761424, \"target\": 202.0}, {\"bmi\": 0.00888341489852436, \"target\": 127.0}, {\"bmi\": 0.00672779075076256, \"target\": 182.0}, {\"bmi\": -0.02021751109626, \"target\": 241.0}, {\"bmi\": -0.0245287593917836, \"target\": 66.0}, {\"bmi\": -0.0115950145052127, \"target\": 94.0}, {\"bmi\": 0.0261284080806188, \"target\": 283.0}, {\"bmi\": -0.0590187457559724, \"target\": 64.0}, {\"bmi\": -0.0363846922044735, \"target\": 102.0}, {\"bmi\": -0.0245287593917836, \"target\": 200.0}, {\"bmi\": 0.0185837235634525, \"target\": 265.0}, {\"bmi\": -0.0902752958985185, \"target\": 94.0}, {\"bmi\": -0.00512814206192736, \"target\": 230.0}, {\"bmi\": -0.052551873312687, \"target\": 181.0}, {\"bmi\": -0.0223731352440218, \"target\": 156.0}, {\"bmi\": -0.02021751109626, \"target\": 233.0}, {\"bmi\": -0.0547074974604488, \"target\": 60.0}, {\"bmi\": -0.00620595413580824, \"target\": 219.0}, {\"bmi\": -0.0169840748746173, \"target\": 80.0}, {\"bmi\": 0.0552293340754031, \"target\": 68.0}, {\"bmi\": 0.0767855755530211, \"target\": 332.0}, {\"bmi\": 0.0185837235634525, \"target\": 248.0}, {\"bmi\": -0.0223731352440218, \"target\": 84.0}, {\"bmi\": 0.0929527566612346, \"target\": 200.0}, {\"bmi\": -0.030995631835069, \"target\": 55.0}, {\"bmi\": 0.0390621529671896, \"target\": 85.0}, {\"bmi\": -0.0611743699037342, \"target\": 89.0}, {\"bmi\": -0.00836157828357004, \"target\": 31.0}, {\"bmi\": -0.0374625042783544, \"target\": 129.0}, {\"bmi\": -0.0137506386529745, \"target\": 83.0}, {\"bmi\": 0.0735521393313785, \"target\": 275.0}, {\"bmi\": -0.0245287593917836, \"target\": 65.0}, {\"bmi\": 0.0336730925977851, \"target\": 198.0}, {\"bmi\": 0.034750904671666, \"target\": 236.0}, {\"bmi\": -0.0385403163522353, \"target\": 253.0}, {\"bmi\": -0.0396181284261162, \"target\": 124.0}, {\"bmi\": -0.00189470584028465, \"target\": 44.0}, {\"bmi\": -0.030995631835069, \"target\": 172.0}, {\"bmi\": -0.0460850008694016, \"target\": 114.0}, {\"bmi\": 0.00133873038135806, \"target\": 142.0}, {\"bmi\": 0.0649296427403312, \"target\": 109.0}, {\"bmi\": 0.0401399650410705, \"target\": 180.0}, {\"bmi\": -0.0234509473179027, \"target\": 144.0}, {\"bmi\": 0.0530737099276413, \"target\": 163.0}, {\"bmi\": 0.0401399650410705, \"target\": 147.0}, {\"bmi\": -0.02021751109626, \"target\": 97.0}, {\"bmi\": 0.0142724752679289, \"target\": 220.0}, {\"bmi\": -0.0342290680567117, \"target\": 190.0}, {\"bmi\": 0.00672779075076256, \"target\": 109.0}, {\"bmi\": 0.00457216660300077, \"target\": 191.0}, {\"bmi\": 0.0304396563761424, \"target\": 122.0}, {\"bmi\": 0.0519958978537604, \"target\": 230.0}, {\"bmi\": 0.0616962065186885, \"target\": 242.0}, {\"bmi\": -0.00728376620968916, \"target\": 248.0}, {\"bmi\": 0.00564997867688165, \"target\": 249.0}, {\"bmi\": 0.0541515220015222, \"target\": 192.0}, {\"bmi\": -0.00836157828357004, \"target\": 131.0}, {\"bmi\": 0.114508998138853, \"target\": 237.0}, {\"bmi\": 0.067085266888093, \"target\": 78.0}, {\"bmi\": -0.0557853095343297, \"target\": 135.0}, {\"bmi\": 0.0304396563761424, \"target\": 244.0}, {\"bmi\": -0.0256065714656645, \"target\": 199.0}, {\"bmi\": 0.104808689473925, \"target\": 270.0}, {\"bmi\": -0.00620595413580824, \"target\": 164.0}, {\"bmi\": -0.0471628129432825, \"target\": 72.0}, {\"bmi\": -0.0482406250171634, \"target\": 96.0}, {\"bmi\": 0.0854080721440683, \"target\": 306.0}, {\"bmi\": -0.0126728265790937, \"target\": 91.0}, {\"bmi\": -0.0331512559828308, \"target\": 214.0}, {\"bmi\": -0.00728376620968916, \"target\": 95.0}, {\"bmi\": -0.0137506386529745, \"target\": 216.0}, {\"bmi\": 0.0595405823709267, \"target\": 263.0}, {\"bmi\": 0.0218171597850952, \"target\": 178.0}, {\"bmi\": 0.0185837235634525, \"target\": 113.0}, {\"bmi\": -0.0115950145052127, \"target\": 200.0}, {\"bmi\": -0.00297251791416553, \"target\": 139.0}, {\"bmi\": 0.0175059114895716, \"target\": 139.0}, {\"bmi\": -0.0299178197611881, \"target\": 88.0}, {\"bmi\": -0.02021751109626, \"target\": 148.0}, {\"bmi\": -0.0579409336820915, \"target\": 88.0}, {\"bmi\": 0.0606183944448076, \"target\": 243.0}, {\"bmi\": -0.0406959404999971, \"target\": 71.0}, {\"bmi\": -0.0719524906425432, \"target\": 77.0}, {\"bmi\": -0.0557853095343297, \"target\": 109.0}, {\"bmi\": 0.045529025410475, \"target\": 272.0}, {\"bmi\": -0.00943939035745095, \"target\": 60.0}, {\"bmi\": -0.0331512559828308, \"target\": 54.0}, {\"bmi\": 0.0498402737059986, \"target\": 221.0}, {\"bmi\": -0.084886235529114, \"target\": 90.0}, {\"bmi\": 0.00564997867688165, \"target\": 311.0}, {\"bmi\": 0.0207393477112143, \"target\": 281.0}, {\"bmi\": -0.00728376620968916, \"target\": 182.0}, {\"bmi\": 0.104808689473925, \"target\": 321.0}, {\"bmi\": -0.0245287593917836, \"target\": 58.0}, {\"bmi\": -0.00620595413580824, \"target\": 262.0}, {\"bmi\": -0.0385403163522353, \"target\": 206.0}, {\"bmi\": 0.137143051690352, \"target\": 233.0}, {\"bmi\": 0.17055522598066, \"target\": 242.0}, {\"bmi\": 0.00241654245523897, \"target\": 123.0}, {\"bmi\": 0.0379843408933087, \"target\": 167.0}, {\"bmi\": -0.0579409336820915, \"target\": 63.0}, {\"bmi\": -0.00943939035745095, \"target\": 197.0}, {\"bmi\": -0.0234509473179027, \"target\": 71.0}, {\"bmi\": -0.0105172024313319, \"target\": 168.0}, {\"bmi\": -0.0342290680567117, \"target\": 140.0}, {\"bmi\": -0.00297251791416553, \"target\": 217.0}, {\"bmi\": 0.068163078961974, \"target\": 121.0}, {\"bmi\": 0.00996122697240527, \"target\": 235.0}, {\"bmi\": 0.00241654245523897, \"target\": 245.0}, {\"bmi\": -0.0385403163522353, \"target\": 40.0}, {\"bmi\": 0.0261284080806188, \"target\": 52.0}, {\"bmi\": -0.0891974838246376, \"target\": 104.0}, {\"bmi\": 0.0606183944448076, \"target\": 132.0}, {\"bmi\": -0.0288400076873072, \"target\": 88.0}, {\"bmi\": -0.0299178197611881, \"target\": 69.0}, {\"bmi\": -0.019139699022379, \"target\": 219.0}, {\"bmi\": -0.0406959404999971, \"target\": 72.0}, {\"bmi\": 0.0153502873418098, \"target\": 201.0}, {\"bmi\": -0.0245287593917836, \"target\": 110.0}, {\"bmi\": 0.00133873038135806, \"target\": 51.0}, {\"bmi\": 0.0692408910358548, \"target\": 277.0}, {\"bmi\": -0.0697968664947814, \"target\": 63.0}, {\"bmi\": -0.0299178197611881, \"target\": 118.0}, {\"bmi\": -0.0460850008694016, \"target\": 69.0}, {\"bmi\": 0.0185837235634525, \"target\": 273.0}, {\"bmi\": 0.00133873038135806, \"target\": 258.0}, {\"bmi\": -0.030995631835069, \"target\": 43.0}, {\"bmi\": -0.00405032998804645, \"target\": 198.0}, {\"bmi\": 0.0153502873418098, \"target\": 242.0}, {\"bmi\": 0.0228949718589761, \"target\": 232.0}, {\"bmi\": 0.045529025410475, \"target\": 175.0}, {\"bmi\": -0.0450071887955207, \"target\": 93.0}, {\"bmi\": -0.0331512559828308, \"target\": 168.0}, {\"bmi\": 0.0972640049567582, \"target\": 275.0}, {\"bmi\": 0.0541515220015222, \"target\": 293.0}, {\"bmi\": 0.1231314947299, \"target\": 281.0}, {\"bmi\": -0.0805749872335904, \"target\": 72.0}, {\"bmi\": 0.0929527566612346, \"target\": 140.0}, {\"bmi\": -0.0503962491649252, \"target\": 189.0}, {\"bmi\": -0.0115950145052127, \"target\": 181.0}, {\"bmi\": -0.0277621956134263, \"target\": 209.0}, {\"bmi\": 0.0584627702970458, \"target\": 136.0}, {\"bmi\": 0.0854080721440683, \"target\": 261.0}, {\"bmi\": -0.000816893766403737, \"target\": 113.0}, {\"bmi\": 0.00672779075076256, \"target\": 131.0}, {\"bmi\": 0.00888341489852436, \"target\": 174.0}, {\"bmi\": 0.0800190117746638, \"target\": 257.0}, {\"bmi\": 0.0713965151836166, \"target\": 55.0}, {\"bmi\": -0.0245287593917836, \"target\": 84.0}, {\"bmi\": -0.0547074974604488, \"target\": 42.0}, {\"bmi\": -0.0363846922044735, \"target\": 146.0}, {\"bmi\": 0.0164280994156907, \"target\": 212.0}, {\"bmi\": 0.077863387626902, \"target\": 233.0}, {\"bmi\": -0.0396181284261162, \"target\": 91.0}, {\"bmi\": 0.0110390390462862, \"target\": 111.0}, {\"bmi\": -0.0406959404999971, \"target\": 152.0}, {\"bmi\": -0.0342290680567117, \"target\": 120.0}, {\"bmi\": 0.00564997867688165, \"target\": 67.0}, {\"bmi\": 0.088641508365711, \"target\": 310.0}, {\"bmi\": -0.0331512559828308, \"target\": 94.0}, {\"bmi\": -0.0568631216082106, \"target\": 183.0}, {\"bmi\": -0.030995631835069, \"target\": 66.0}, {\"bmi\": 0.0552293340754031, \"target\": 173.0}, {\"bmi\": -0.0600965578298533, \"target\": 72.0}, {\"bmi\": 0.00133873038135806, \"target\": 49.0}, {\"bmi\": -0.0234509473179027, \"target\": 64.0}, {\"bmi\": -0.074108114790305, \"target\": 48.0}, {\"bmi\": 0.0196615356373334, \"target\": 178.0}, {\"bmi\": -0.0159062628007364, \"target\": 104.0}, {\"bmi\": -0.0159062628007364, \"target\": 132.0}, {\"bmi\": 0.0390621529671896, \"target\": 220.0}, {\"bmi\": -0.0730303027164241, \"target\": 57.0}], \"data-12e00eda8d2e98e9a53f526fc8cb991b\": [{\"bmi\": -0.0902752958985185, \"target\": 66.42293509524875}, {\"bmi\": -0.0402752958985185, \"target\": 113.8946981144462}, {\"bmi\": 0.009724704101481504, \"target\": 161.36646113364367}, {\"bmi\": 0.05972470410148152, \"target\": 208.83822415284112}, {\"bmi\": 0.10972470410148151, \"target\": 256.3099871720386}, {\"bmi\": 0.15972470410148149, \"target\": 303.78175019123603}]}}, {\"mode\": \"vega-lite\"});\n",
       "</script>"
      ],
      "text/plain": [
       "alt.LayerChart(...)"
      ]
     },
     "execution_count": 19,
     "metadata": {},
     "output_type": "execute_result"
    }
   ],
   "source": [
    "df_bmi_target=diabetes[[\"bmi\",\"target\"]]\n",
    "\n",
    "grafico_bmi = alt.Chart(df_bmi_target).mark_circle(size=60).encode(\n",
    "    x=alt.X('bmi', axis=alt.Axis(title=\"Body Mass Index (Normalized)\")),\n",
    "    y=alt.Y('target', axis=alt.Axis(title=\"Target: Disease progression\"))\n",
    ").properties(title= \"Disease progression (target) vs Body Mass Index Normalized (bmi)\")\n",
    "\n",
    "x = np.arange(df_bmi_target[\"bmi\"].min(),df_bmi_target[\"bmi\"].max(),0.05)\n",
    "\n",
    "lineas=pd.DataFrame({\n",
    "  'bmi': x,\n",
    "  'target': x*regr.coef_+regr.intercept_\n",
    "})\n",
    "\n",
    "grafico_regresion=alt.Chart(lineas).mark_line(color=\"red\").encode(\n",
    "    x='bmi',\n",
    "    y='target'\n",
    ").properties(title=\"Lineal regression\")\n",
    "\n",
    "grafico_bmi+grafico_regresion"
   ]
  },
  {
   "cell_type": "code",
   "execution_count": null,
   "metadata": {},
   "outputs": [],
   "source": []
  }
 ],
 "metadata": {
  "kernelspec": {
   "display_name": "Python 3",
   "language": "python",
   "name": "python3"
  },
  "language_info": {
   "codemirror_mode": {
    "name": "ipython",
    "version": 3
   },
   "file_extension": ".py",
   "mimetype": "text/x-python",
   "name": "python",
   "nbconvert_exporter": "python",
   "pygments_lexer": "ipython3",
   "version": "3.7.8"
  }
 },
 "nbformat": 4,
 "nbformat_minor": 4
}
